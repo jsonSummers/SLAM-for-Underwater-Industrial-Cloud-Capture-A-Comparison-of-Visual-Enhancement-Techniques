{
 "cells": [
  {
   "cell_type": "code",
   "execution_count": 1,
   "metadata": {
    "collapsed": true
   },
   "outputs": [
    {
     "name": "stdout",
     "output_type": "stream",
     "text": [
      "Jupyter environment detected. Enabling Open3D WebVisualizer.\n",
      "[Open3D INFO] WebRTC GUI backend enabled.\n",
      "[Open3D INFO] WebRTCWindowSystem: HTTP handshake server disabled.\n"
     ]
    }
   ],
   "source": [
    "import pandas as pd\n",
    "import matplotlib.pyplot as plt\n",
    "from mpl_toolkits.mplot3d import Axes3D\n",
    "import open3d as o3d\n",
    "import numpy as np\n",
    "import cupoch as cph\n",
    "import argparse\n",
    "from sklearn.metrics import silhouette_score\n",
    "from torchclustermetrics import silhouette\n",
    "from cupoch import geometry"
   ]
  },
  {
   "cell_type": "code",
   "execution_count": 2,
   "outputs": [],
   "source": [
    "columns = ['point_id', 'frame', 'x', 'y', 'z']\n",
    "\n",
    "\n",
    "def get_file_path(name):\n",
    "    file_path = '../Results/MapPoints_' + str(name) + '.csv'\n",
    "    return file_path\n",
    "\n",
    "\n",
    "def get_dataframe(name):\n",
    "    dataframe = pd.read_csv(get_file_path(name), names=columns)\n",
    "    return dataframe\n",
    "\n",
    "\n",
    "def get_number_of_unique_points(dataframe):\n",
    "    unique_points = dataframe['point_id'].nunique()\n",
    "    return unique_points\n",
    "\n",
    "\n",
    "def read_in_ply(input_file):\n",
    "    pointcloud = cph.io.read_point_cloud(\"../Visualize/\" + input_file)\n",
    "    return pointcloud\n",
    "\n",
    "def data_mining(name):\n",
    "    df = get_dataframe(name)\n",
    "    unique_points = get_number_of_unique_points(df)"
   ],
   "metadata": {
    "collapsed": false
   }
  },
  {
   "cell_type": "code",
   "execution_count": 3,
   "outputs": [
    {
     "data": {
      "text/plain": "<bound method PyCapsule.dimension of geometry::PointCloud with 1687273 points.>"
     },
     "execution_count": 3,
     "metadata": {},
     "output_type": "execute_result"
    }
   ],
   "source": [
    "filename = 'original'\n",
    "df = get_dataframe(filename)\n",
    "pointcloud = read_in_ply('..\\Results\\original\\\\1\\original.ply')\n",
    "pointcloud.dimension"
   ],
   "metadata": {
    "collapsed": false
   }
  },
  {
   "cell_type": "code",
   "execution_count": 4,
   "outputs": [],
   "source": [
    "\n",
    "def get_silhouette(pointcloud, labels):\n",
    "    original_data = np.array(pointcloud.points.cpu())\n",
    "    silhouette_avg = silhouette_score(original_data, labels)\n",
    "    return silhouette_avg\n",
    "\n",
    "def cluster_old(pointcloud, eps=0.1, min_points=10):\n",
    "    labels = np.array(pointcloud.cluster_dbscan(eps=eps, min_points=min_points).cpu())\n",
    "    max_label = labels.max()\n",
    "    print(\"Point cloud has %d clusters\" % (max_label + 1))\n",
    "\n",
    "    # Count points in each cluster\n",
    "    unique_labels, counts = np.unique(labels, return_counts=True)\n",
    "\n",
    "    # Prepare data for export\n",
    "    cluster_data = {'ClusterLabel': [], 'NumPoints': []}\n",
    "\n",
    "    for label, count in zip(unique_labels, counts):\n",
    "        cluster_data['ClusterLabel'].append(label)\n",
    "        cluster_data['NumPoints'].append(count)\n",
    "\n",
    "        print(f\"Cluster {label} has {count} points\")\n",
    "\n",
    "    # Create a DataFrame for export\n",
    "    cluster_df = pd.DataFrame(cluster_data)\n",
    "    return labels, cluster_df\n",
    "\n",
    "\n",
    "def cluster(pointcloud, eps, min_points):\n",
    "    labels = np.array(pointcloud.cluster_dbscan(eps=eps, min_points=min_points).cpu())\n",
    "    max_label = labels.max()\n",
    "    print(\"Point cloud has %d clusters\" % (max_label + 1))\n",
    "\n",
    "    # Count points in each cluster\n",
    "    unique_labels, counts = np.unique(labels, return_counts=True)\n",
    "\n",
    "    # Prepare data for export\n",
    "    cluster_data = {'ClusterLabel': [], 'NumPoints': []}\n",
    "\n",
    "    for label, count in zip(unique_labels, counts):\n",
    "        cluster_data['ClusterLabel'].append(label)\n",
    "        cluster_data['NumPoints'].append(count)\n",
    "\n",
    "        print(f\"Cluster {label} has {count} points\")\n",
    "\n",
    "    # Create a DataFrame for export\n",
    "    cluster_df = pd.DataFrame(cluster_data)\n",
    "\n",
    "    # Calculate Silhouette Score using the original data\n",
    "    #silhouette_avg = get_silhouette(pointcloud, labels)\n",
    "    #print(f\"Silhouette Score: {silhouette_avg}\")\n",
    "\n",
    "    # Add Silhouette Score to the DataFrame\n",
    "    #cluster_df['SilhouetteScore'] = silhouette_avg\n",
    "\n",
    "    return labels, cluster_df"
   ],
   "metadata": {
    "collapsed": false
   }
  },
  {
   "cell_type": "code",
   "execution_count": 5,
   "outputs": [],
   "source": [
    "def visualize(pointcloud, labels):\n",
    "    cmap = plt.get_cmap(\"viridis\")\n",
    "    max_label = labels.max()\n",
    "    colors = cmap(labels / (max_label if max_label > 0 else 1))\n",
    "    # colors[labels < 0] = 0\n",
    "    pointcloud.colors = cph.utility.Vector3fVector(colors[:, :3])\n",
    "    cph.visualization.draw_geometries([pointcloud])"
   ],
   "metadata": {
    "collapsed": false
   }
  },
  {
   "cell_type": "code",
   "execution_count": 6,
   "outputs": [],
   "source": [
    "def save_results(df_data, df_cluster, output_csv_file):\n",
    "    df_data.to_csv(output_csv_file + '.csv', index=False)"
   ],
   "metadata": {
    "collapsed": false
   }
  },
  {
   "cell_type": "markdown",
   "source": [
    "# Main"
   ],
   "metadata": {
    "collapsed": false
   }
  },
  {
   "cell_type": "code",
   "execution_count": 7,
   "outputs": [
    {
     "name": "stdout",
     "output_type": "stream",
     "text": [
      "Point cloud has 217 clusters\n",
      "Cluster -1 has 57877 points\n",
      "Cluster 1 has 49 points\n",
      "Cluster 2 has 29 points\n",
      "Cluster 3 has 14 points\n",
      "Cluster 4 has 242 points\n",
      "Cluster 5 has 15 points\n",
      "Cluster 6 has 13 points\n",
      "Cluster 7 has 112 points\n",
      "Cluster 8 has 29 points\n",
      "Cluster 9 has 23 points\n",
      "Cluster 10 has 45 points\n",
      "Cluster 11 has 25 points\n",
      "Cluster 12 has 17 points\n",
      "Cluster 13 has 19 points\n",
      "Cluster 14 has 12 points\n",
      "Cluster 15 has 15 points\n",
      "Cluster 16 has 13 points\n",
      "Cluster 17 has 26 points\n",
      "Cluster 18 has 13 points\n",
      "Cluster 19 has 28 points\n",
      "Cluster 20 has 20 points\n",
      "Cluster 21 has 16 points\n",
      "Cluster 22 has 20 points\n",
      "Cluster 23 has 116 points\n",
      "Cluster 24 has 14 points\n",
      "Cluster 25 has 15 points\n",
      "Cluster 26 has 18 points\n",
      "Cluster 27 has 1 points\n",
      "Cluster 28 has 78 points\n",
      "Cluster 29 has 16 points\n",
      "Cluster 30 has 58 points\n",
      "Cluster 31 has 2 points\n",
      "Cluster 32 has 3 points\n",
      "Cluster 33 has 15 points\n",
      "Cluster 34 has 18 points\n",
      "Cluster 35 has 18 points\n",
      "Cluster 36 has 42 points\n",
      "Cluster 37 has 1 points\n",
      "Cluster 38 has 12 points\n",
      "Cluster 39 has 15 points\n",
      "Cluster 40 has 8 points\n",
      "Cluster 41 has 19 points\n",
      "Cluster 42 has 67 points\n",
      "Cluster 43 has 11 points\n",
      "Cluster 44 has 11 points\n",
      "Cluster 45 has 48 points\n",
      "Cluster 46 has 287 points\n",
      "Cluster 47 has 33 points\n",
      "Cluster 48 has 18 points\n",
      "Cluster 49 has 69 points\n",
      "Cluster 50 has 18 points\n",
      "Cluster 51 has 11 points\n",
      "Cluster 52 has 1 points\n",
      "Cluster 53 has 71 points\n",
      "Cluster 54 has 25 points\n",
      "Cluster 55 has 28 points\n",
      "Cluster 56 has 22 points\n",
      "Cluster 57 has 10 points\n",
      "Cluster 58 has 18 points\n",
      "Cluster 59 has 11 points\n",
      "Cluster 60 has 16 points\n",
      "Cluster 61 has 44 points\n",
      "Cluster 62 has 4 points\n",
      "Cluster 63 has 11 points\n",
      "Cluster 64 has 159 points\n",
      "Cluster 65 has 53 points\n",
      "Cluster 66 has 12 points\n",
      "Cluster 67 has 12 points\n",
      "Cluster 68 has 11 points\n",
      "Cluster 69 has 1 points\n",
      "Cluster 70 has 14 points\n",
      "Cluster 71 has 11 points\n",
      "Cluster 72 has 12 points\n",
      "Cluster 73 has 11 points\n",
      "Cluster 74 has 36 points\n",
      "Cluster 75 has 27 points\n",
      "Cluster 76 has 36 points\n",
      "Cluster 77 has 45 points\n",
      "Cluster 78 has 27 points\n",
      "Cluster 79 has 27 points\n",
      "Cluster 80 has 18 points\n",
      "Cluster 81 has 27 points\n",
      "Cluster 82 has 18 points\n",
      "Cluster 83 has 27 points\n",
      "Cluster 84 has 18 points\n",
      "Cluster 85 has 18 points\n",
      "Cluster 86 has 18 points\n",
      "Cluster 87 has 18 points\n",
      "Cluster 88 has 11 points\n",
      "Cluster 89 has 13 points\n",
      "Cluster 90 has 27 points\n",
      "Cluster 91 has 11 points\n",
      "Cluster 92 has 18 points\n",
      "Cluster 93 has 18 points\n",
      "Cluster 94 has 18 points\n",
      "Cluster 95 has 36 points\n",
      "Cluster 96 has 19 points\n",
      "Cluster 97 has 18 points\n",
      "Cluster 98 has 18 points\n",
      "Cluster 99 has 18 points\n",
      "Cluster 100 has 27 points\n",
      "Cluster 101 has 19 points\n",
      "Cluster 102 has 114 points\n",
      "Cluster 103 has 138 points\n",
      "Cluster 104 has 18 points\n",
      "Cluster 105 has 22 points\n",
      "Cluster 106 has 77 points\n",
      "Cluster 107 has 17 points\n",
      "Cluster 108 has 7 points\n",
      "Cluster 109 has 77 points\n",
      "Cluster 110 has 12 points\n",
      "Cluster 111 has 13 points\n",
      "Cluster 112 has 41 points\n",
      "Cluster 113 has 13 points\n",
      "Cluster 114 has 28 points\n",
      "Cluster 115 has 64 points\n",
      "Cluster 116 has 273 points\n",
      "Cluster 117 has 14 points\n",
      "Cluster 118 has 25 points\n",
      "Cluster 119 has 52 points\n",
      "Cluster 120 has 41 points\n",
      "Cluster 121 has 20 points\n",
      "Cluster 122 has 17 points\n",
      "Cluster 123 has 103 points\n",
      "Cluster 124 has 10 points\n",
      "Cluster 125 has 13 points\n",
      "Cluster 126 has 346 points\n",
      "Cluster 127 has 19 points\n",
      "Cluster 128 has 103 points\n",
      "Cluster 129 has 14 points\n",
      "Cluster 130 has 32 points\n",
      "Cluster 131 has 66 points\n",
      "Cluster 132 has 13 points\n",
      "Cluster 133 has 12 points\n",
      "Cluster 134 has 23 points\n",
      "Cluster 135 has 12 points\n",
      "Cluster 136 has 15 points\n",
      "Cluster 137 has 12 points\n",
      "Cluster 138 has 39 points\n",
      "Cluster 139 has 13 points\n",
      "Cluster 140 has 26 points\n",
      "Cluster 141 has 20 points\n",
      "Cluster 142 has 19 points\n",
      "Cluster 143 has 38 points\n",
      "Cluster 144 has 69 points\n",
      "Cluster 145 has 45 points\n",
      "Cluster 146 has 108 points\n",
      "Cluster 147 has 14 points\n",
      "Cluster 148 has 32 points\n",
      "Cluster 149 has 14 points\n",
      "Cluster 150 has 1 points\n",
      "Cluster 151 has 30 points\n",
      "Cluster 152 has 12 points\n",
      "Cluster 153 has 25 points\n",
      "Cluster 154 has 50 points\n",
      "Cluster 155 has 33 points\n",
      "Cluster 156 has 44 points\n",
      "Cluster 157 has 40 points\n",
      "Cluster 158 has 20 points\n",
      "Cluster 159 has 148 points\n",
      "Cluster 160 has 27 points\n",
      "Cluster 161 has 43 points\n",
      "Cluster 162 has 18 points\n",
      "Cluster 163 has 8 points\n",
      "Cluster 164 has 11 points\n",
      "Cluster 165 has 59 points\n",
      "Cluster 166 has 11 points\n",
      "Cluster 167 has 110 points\n",
      "Cluster 168 has 119 points\n",
      "Cluster 169 has 366 points\n",
      "Cluster 170 has 171 points\n",
      "Cluster 171 has 27 points\n",
      "Cluster 172 has 54 points\n",
      "Cluster 173 has 37 points\n",
      "Cluster 174 has 11 points\n",
      "Cluster 175 has 13 points\n",
      "Cluster 176 has 31 points\n",
      "Cluster 177 has 20 points\n",
      "Cluster 178 has 20 points\n",
      "Cluster 179 has 1622010 points\n",
      "Cluster 180 has 11 points\n",
      "Cluster 181 has 46 points\n",
      "Cluster 182 has 13 points\n",
      "Cluster 183 has 12 points\n",
      "Cluster 184 has 16 points\n",
      "Cluster 185 has 11 points\n",
      "Cluster 186 has 11 points\n",
      "Cluster 187 has 12 points\n",
      "Cluster 188 has 14 points\n",
      "Cluster 189 has 12 points\n",
      "Cluster 190 has 13 points\n",
      "Cluster 191 has 13 points\n",
      "Cluster 192 has 11 points\n",
      "Cluster 193 has 16 points\n",
      "Cluster 194 has 11 points\n",
      "Cluster 195 has 14 points\n",
      "Cluster 196 has 20 points\n",
      "Cluster 197 has 15 points\n",
      "Cluster 198 has 13 points\n",
      "Cluster 199 has 11 points\n",
      "Cluster 200 has 11 points\n",
      "Cluster 201 has 11 points\n",
      "Cluster 202 has 13 points\n",
      "Cluster 203 has 11 points\n",
      "Cluster 204 has 11 points\n",
      "Cluster 205 has 11 points\n",
      "Cluster 206 has 13 points\n",
      "Cluster 207 has 12 points\n",
      "Cluster 208 has 11 points\n",
      "Cluster 209 has 11 points\n",
      "Cluster 210 has 13 points\n",
      "Cluster 211 has 11 points\n",
      "Cluster 212 has 11 points\n",
      "Cluster 213 has 11 points\n",
      "Cluster 214 has 11 points\n",
      "Cluster 215 has 11 points\n",
      "Cluster 216 has 11 points\n"
     ]
    }
   ],
   "source": [
    "labels, clusterdf = cluster(pointcloud, eps=0.1, min_points=10)"
   ],
   "metadata": {
    "collapsed": false
   }
  },
  {
   "cell_type": "code",
   "execution_count": 8,
   "outputs": [
    {
     "name": "stdout",
     "output_type": "stream",
     "text": [
      "     ClusterLabel  NumPoints\n",
      "0              -1      57877\n",
      "1               1         49\n",
      "2               2         29\n",
      "3               3         14\n",
      "4               4        242\n",
      "..            ...        ...\n",
      "212           212         11\n",
      "213           213         11\n",
      "214           214         11\n",
      "215           215         11\n",
      "216           216         11\n",
      "\n",
      "[217 rows x 2 columns]\n"
     ]
    }
   ],
   "source": [
    "print(clusterdf)"
   ],
   "metadata": {
    "collapsed": false
   }
  },
  {
   "cell_type": "code",
   "execution_count": 9,
   "outputs": [
    {
     "name": "stdout",
     "output_type": "stream",
     "text": [
      "         point_id  frame         x          y         z\n",
      "0               0      4  18.16210 -14.758000  32.79170\n",
      "1               1      4  32.73420  -0.329008  50.00960\n",
      "2               2      4  20.40610 -10.003400  40.01140\n",
      "3               3      4  20.55920 -13.848400  16.91910\n",
      "4               4      4  23.13690 -13.108900  22.85620\n",
      "...           ...    ...       ...        ...       ...\n",
      "1687268    200019   2424 -13.06340   4.567680   5.40135\n",
      "1687269    200020   2424  -8.95971   4.597340   2.83931\n",
      "1687270    200021   2424 -10.62660  11.524500   7.74365\n",
      "1687271    200022   2424  -8.41464   1.494700   5.59172\n",
      "1687272    200023   2424  -9.97235   2.479570   4.52479\n",
      "\n",
      "[1687273 rows x 5 columns]\n"
     ]
    }
   ],
   "source": [
    "print(df)"
   ],
   "metadata": {
    "collapsed": false
   }
  },
  {
   "cell_type": "code",
   "execution_count": 10,
   "outputs": [
    {
     "name": "stdout",
     "output_type": "stream",
     "text": [
      "Number of repeated observations: 12871\n"
     ]
    }
   ],
   "source": [
    "# Assuming your DataFrame is named 'df'\n",
    "duplicated_rows = df[df.duplicated()]\n",
    "\n",
    "# Number of repeated observations\n",
    "num_repeated_observations = len(duplicated_rows)\n",
    "\n",
    "print(f\"Number of repeated observations: {num_repeated_observations}\")"
   ],
   "metadata": {
    "collapsed": false
   }
  },
  {
   "cell_type": "code",
   "execution_count": 11,
   "outputs": [
    {
     "data": {
      "text/plain": "1687273"
     },
     "execution_count": 11,
     "metadata": {},
     "output_type": "execute_result"
    }
   ],
   "source": [
    "len(labels)"
   ],
   "metadata": {
    "collapsed": false
   }
  },
  {
   "cell_type": "code",
   "execution_count": 12,
   "outputs": [],
   "source": [
    "df['ClusterLabel'] = labels"
   ],
   "metadata": {
    "collapsed": false
   }
  },
  {
   "cell_type": "code",
   "execution_count": 13,
   "outputs": [
    {
     "name": "stdout",
     "output_type": "stream",
     "text": [
      "         point_id  frame         x          y         z  ClusterLabel\n",
      "0               0      4  18.16210 -14.758000  32.79170            -1\n",
      "1               1      4  32.73420  -0.329008  50.00960            -1\n",
      "2               2      4  20.40610 -10.003400  40.01140            -1\n",
      "3               3      4  20.55920 -13.848400  16.91910            -1\n",
      "4               4      4  23.13690 -13.108900  22.85620            -1\n",
      "...           ...    ...       ...        ...       ...           ...\n",
      "1687268    200019   2424 -13.06340   4.567680   5.40135            -1\n",
      "1687269    200020   2424  -8.95971   4.597340   2.83931            -1\n",
      "1687270    200021   2424 -10.62660  11.524500   7.74365            -1\n",
      "1687271    200022   2424  -8.41464   1.494700   5.59172            -1\n",
      "1687272    200023   2424  -9.97235   2.479570   4.52479            -1\n",
      "\n",
      "[1687273 rows x 6 columns]\n"
     ]
    }
   ],
   "source": [
    "print(df)"
   ],
   "metadata": {
    "collapsed": false
   }
  },
  {
   "cell_type": "code",
   "execution_count": 14,
   "outputs": [],
   "source": [
    "visualize(pointcloud, labels)"
   ],
   "metadata": {
    "collapsed": false
   }
  }
 ],
 "metadata": {
  "kernelspec": {
   "display_name": "Python 3",
   "language": "python",
   "name": "python3"
  },
  "language_info": {
   "codemirror_mode": {
    "name": "ipython",
    "version": 2
   },
   "file_extension": ".py",
   "mimetype": "text/x-python",
   "name": "python",
   "nbconvert_exporter": "python",
   "pygments_lexer": "ipython2",
   "version": "2.7.6"
  }
 },
 "nbformat": 4,
 "nbformat_minor": 0
}
